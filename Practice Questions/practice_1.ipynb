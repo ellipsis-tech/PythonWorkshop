{
 "cells": [
  {
   "cell_type": "markdown",
   "metadata": {},
   "source": [
    "***\n",
    "# Ellipsis Python Workshop Practice Questions\n",
    "Welcome, Freshmen! With the knowledge you gained throughout the workshop, practice more with these questions!\n",
    "\n",
    "<b>Remember, practice makes perfect!</b>\n",
    "\n",
    "***"
   ]
  },
  {
   "cell_type": "markdown",
   "metadata": {},
   "source": [
    "## 1) Variables\n",
    "\n",
    "Do you remember all the data types and how arithmatic works?\n",
    "\n",
    "You can type out the various <b>values</b> of the <b>variables</b> stored in memory as well as what is <b>displayed</b> on the <b>screen</b>."
   ]
  },
  {
   "cell_type": "code",
   "execution_count": null,
   "metadata": {},
   "outputs": [],
   "source": [
    "# ########################################### #\n",
    "# The code below is given. Guess the output.  #\n",
    "# ########################################### #\n",
    "winx = \"club\"\n",
    "genre_1 = \"Magical girl \"\n",
    "genre_2 = \"action \"\n",
    "seasons = 8\n",
    "episodes = 208\n",
    "started = 2004\n",
    "team = 7\n",
    "trix = \"3\"\n",
    "burned = 1\n",
    "\n",
    "print(type(winx))\n",
    "print(genre_1 + genre_2)\n",
    "print(genre_2 * int(trix))\n",
    "\n",
    "best = team + started / seasons\n",
    "print(best)\n",
    "print(type(best))\n",
    "\n",
    "print(type(burned))\n",
    "print(burned ** team + episodes)\n",
    "print(started % episodes / trix)"
   ]
  },
  {
   "cell_type": "markdown",
   "metadata": {},
   "source": [
    "## 2) Weight on Different Planets\n",
    "\n",
    "You have been transported into the <b>star-trek universe</b> 🖖🛸\n",
    "\n",
    "Your job on the ship is to find out how much Captain Kirk weights in different planets when compared to his weight (62.9 kg) on Terra / Earth\n",
    "\n",
    "Because <b>weight = mass x gravity</b>, multiplying his weight on Terra by the numbers below will give you Captain Kirks weight on another planets.\n",
    "\n",
    "<table align=\"left\" class=\"table table-bordered\" style=\"width:40%\">\n",
    "<tr>\n",
    "<th style=\"text-align:center; width:15%\">Planet</th>\n",
    "<th style=\"text-align:center; width:20%\">Multiply the Terra Weight by</th>\n",
    "</tr>\n",
    "<tr>\n",
    "<td style=\"text-align:center;\">Vulcan</td>\n",
    "<td style=\"text-align:center;\">1.54</td>\n",
    "</tr>\n",
    "<tr>\n",
    "<td style=\"text-align:center;\">Risa</td>\n",
    "<td style=\"text-align:center;\">0.81</td>\n",
    "</tr>\n",
    "<tr>\n",
    "<td style=\"text-align:center;\">Nibiru</td>\n",
    "<td style=\"text-align:center;\">6.29</td>\n",
    "</tr>\n",
    "<tr>\n",
    "<td style=\"text-align:center;\">Eminiar VII</td>\n",
    "<td style=\"text-align:center;\">32.93</td>\n",
    "</tr>\n",
    "<tr>\n",
    "<td style=\"text-align:center;\">Remus</td>\n",
    "<td style=\"text-align:center;\">2.34</td>\n",
    "</tr>\n",
    "</table>\n",
    "<br><br><br><br><br><br><br><br><br>\n",
    "<h6>The multiplier are not accurate, don't sue me</h6>"
   ]
  },
  {
   "cell_type": "code",
   "execution_count": null,
   "metadata": {},
   "outputs": [],
   "source": [
    "# Input your code here\n",
    "\n"
   ]
  },
  {
   "cell_type": "markdown",
   "metadata": {},
   "source": [
    "## 3) Universal Studios Tickets\n",
    "\n",
    "Write a function called `get_ticket_price`, this function will take in input from the user on their age and whether they are locals or not.\n",
    "\n",
    "Universal Studios offers the following prices to its visitors based on their and what type of visitor they are:\n",
    "\n",
    "<ul>\n",
    "<li>Local Adult: $74 </li>\n",
    "<li>Local Child (4 - 12, both inclusive): $59</li>\n",
    "<li>Tourist Adult: $83</li>\n",
    "<li>Tourist Child (4 - 12, both inclusive): $62</li>\n",
    "</ul>"
   ]
  },
  {
   "cell_type": "code",
   "execution_count": null,
   "metadata": {},
   "outputs": [],
   "source": []
  },
  {
   "cell_type": "markdown",
   "metadata": {},
   "source": [
    "## 4) Message Decryption\n",
    "\n",
    "Find the original message to the encrypted message! 🗝🔒🔑 \n",
    "\n",
    "The <b>pattern</b> of the simple encryption is:\n",
    "- All the occurrences of letter 'e' in the message are replaced by 'l'\n",
    "- All the occurrences of letter 'v' in the message are replaced by 't'\n",
    "- All the occurrences of letter 'l' in the message are replaced by 'o'\n",
    "- All the occurrences of letter 't' in the message are replaced by 'b'\n",
    "- All the occurrences of letter 'o' in the message are replaced by 'u'\n",
    "- All the occurrences of letter 'b' in the message are replaced by 'r'\n",
    "- All the occurrences of letter 'u' in the message are replaced by 'e'\n",
    "- All the occurrences of letter 'r' in the message are replaced by 'v'"
   ]
  },
  {
   "cell_type": "code",
   "execution_count": null,
   "metadata": {},
   "outputs": [],
   "source": [
    "#Encrypted Message\n",
    "encrypted_message = \"ltlnbeaooy, rur's lnlvgy and lnbhesiasm, reb musboy oack uf ubhlv tuoenbllvs, changld kltin's mind. rur: ml wanb ranana! endlvwlav\""
   ]
  },
  {
   "cell_type": "markdown",
   "metadata": {},
   "source": [
    "## 5) Grade Slots\n",
    "\n",
    "You are given a piece of code below that generates and displays three random numbers between 0 and 9. This is to simulate your luck for grades.\n",
    "\n",
    "Complete the code to display one of the following messages:|\n",
    "\n",
    "<ul>\n",
    "<li><b>\"You got a B :(\"</b> if the three numbers are all different.</li>\n",
    "<li><b>\"An A- is also excellent\"</b> if there are two numbers that are the same.</li>\n",
    "<li><b>\"You achieved an A+ :O\"</b> if all three numbers are the same.</li>\n",
    "</ul>\n",
    "\n",
    "Python has a built-in module that you can use to make random numbers. It is indicated with `import random`, you will learn more about it in the future!"
   ]
  },
  {
   "cell_type": "code",
   "execution_count": 24,
   "metadata": {},
   "outputs": [
    {
     "name": "stdout",
     "output_type": "stream",
     "text": [
      "5 - 1 - 2\n"
     ]
    }
   ],
   "source": [
    "#This code is given | DO NOT TOUCH!!!\n",
    "import random\n",
    "num1 = random.randrange(0, 10) \n",
    "num2 = random.randrange(0, 10)\n",
    "num3 = random.randrange(0, 10)\n",
    "\n",
    "print(num1, '-', num2, '-', num3)\n",
    "\n",
    "#Write your code below"
   ]
  },
  {
   "cell_type": "markdown",
   "metadata": {},
   "source": [
    "## 6) Number Palindrome\n",
    "\n",
    "Given an integer x, return true if x is a palindrome, and false otherwise.\n",
    "\n",
    "Example 1:\n",
    "\n",
    "Input: x = 121\n",
    "Output: true\n",
    "Explanation: 121 reads as 121 from left to right and from right to left.\n",
    "\n",
    "Example 2:\n",
    "\n",
    "Input: x = -121\n",
    "Output: false\n",
    "Explanation: From left to right, it reads -121. From right to left, it becomes 121-. Therefore it is not a palindrome.\n",
    "\n",
    "Example 3:\n",
    "\n",
    "Input: x = 10\n",
    "Output: false\n",
    "Explanation: Reads 01 from right to left. Therefore it is not a palindrome."
   ]
  },
  {
   "cell_type": "code",
   "execution_count": null,
   "metadata": {},
   "outputs": [],
   "source": []
  },
  {
   "cell_type": "markdown",
   "metadata": {},
   "source": [
    "## 7) Shrek Money (not complete)\n",
    "\n",
    "If you visit Far Far Away (Shrek), you'll need to get familiar with their currency and the various <b>precious metals</b> in circulation.  \n",
    "\n",
    "Here's a list of common currency:\n",
    "<ul>\n",
    "<li>Penny - 1 cent</li>\n",
    "<li>Nickle - 5 cents</li>\n",
    "<li>Dime - 10 cents</li>\n",
    "<li>Quarter - 25 cents</li>\n",
    "</ul>\n",
    "\n",
    "Let's write some Python code that prompts the user for an amount to pay (in US$) and that helps him/her to know <b>how many coins or notes</b> he/she has to provide in each denomination, to provide the <b>exact change</b>."
   ]
  },
  {
   "cell_type": "markdown",
   "metadata": {},
   "source": [
    "## 8) The Comic Center of Pasadena Sales (dictionary)\n"
   ]
  },
  {
   "cell_type": "markdown",
   "metadata": {},
   "source": [
    "## 9) Game Hours (dictionary)"
   ]
  },
  {
   "cell_type": "markdown",
   "metadata": {},
   "source": [
    "## 10) Kung Fu Panda List\n",
    "Grand Master Oogway has come back to life -> 🐢☯️!!!!\n",
    "\n",
    "The master is holding a worldwide competition, he has even open the gates of the spirit world ⛩️ so more people can join.\n",
    "\n",
    "However, he does not have a good application system and numerous kung fu masters have accidentally submitted their application more then once. \n",
    "\n",
    "Please help this old turtle filter out all the extra registrations and make a new list that doesn't have any duplicates!!"
   ]
  },
  {
   "cell_type": "code",
   "execution_count": null,
   "metadata": {},
   "outputs": [],
   "source": [
    "#This code is given | DO NOT TOUCH!!!\n",
    "application_list = [\"Tai Lung\", \"Mr. Ping\", \"Fung\", \"Po\", \"Master Tigress\", \"Master Boar\", \"Master Crane\", \"Jack Black\", \"Master Mantis\", \"Kai\", \"Master Viper\", \"Master Monkey\", \"Master Shifu\", \"Grand Twin Weasels\", \"Jack Black\", \"Master Frog\", \"Master Leopard\", \"Master Antelope\", \"Master Croc\", \"Master Boar\", \"Master Storming Ox\", \"Master Frog\", \"Master Wolf\", \"Master Eagle\", \"Master Boar\", \"Master Elephant\", \"Kai\", \"Jack Black\", \"Master Rooster\", \"Po\", \"Jack Black\", \"Po\", \"Master Shengqi\", \"Master Tigress\", \"Tai Lung\", \"Lord Shen\", \"Kai\", \"Master Tigress\", \"Wu Sisters\", \"Qinchu\", \"Scorpion\", \"Tai Lung\", \"Lidong\", \"Master Boar\", \"Taotie\", \"Bao\", \"General Tsin\", \"Po\", \"Kai\", \"Jack Black\", \"Tai Lung\", \"Mr. Ping\", \"Fung\", \"Po\", \"Master Tigress\", \"Master Boar\", \"Master Crane\", \"Jack Black\", \"Master Mantis\", \"Kai\", \"Master Viper\", \"Master Monkey\", \"Master Shifu\", \"Grand Twin Weasels\", \"Jack Black\", \"Master Frog\", \"Master Leopard\", \"Master Antelope\", \"Master Croc\", \"Master Boar\", \"Master Storming Ox\", \"Master Frog\", \"Master Wolf\", \"Master Eagle\", \"Master Boar\", \"Master Elephant\", \"Kai\", \"Jack Black\", \"Master Rooster\", \"Po\", \"Jack Black\", \"Po\", \"Master Shengqi\", \"Master Tigress\", \"Tai Lung\", \"Lord Shen\", \"Kai\", \"Master Tigress\", \"Wu Sisters\", \"Qinchu\", \"Scorpion\", \"Tai Lung\", \"Lidong\", \"Master Boar\", \"Taotie\", \"Bao\", \"General Tsin\", \"Po\", \"Kai\", \"Jack Black\"]\n",
    "\n",
    "#Write your code below"
   ]
  }
 ],
 "metadata": {
  "kernelspec": {
   "display_name": "Python 3",
   "language": "python",
   "name": "python3"
  },
  "language_info": {
   "codemirror_mode": {
    "name": "ipython",
    "version": 3
   },
   "file_extension": ".py",
   "mimetype": "text/x-python",
   "name": "python",
   "nbconvert_exporter": "python",
   "pygments_lexer": "ipython3",
   "version": "3.11.9"
  }
 },
 "nbformat": 4,
 "nbformat_minor": 2
}
