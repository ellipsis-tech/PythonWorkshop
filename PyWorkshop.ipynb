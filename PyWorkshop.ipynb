{
 "cells": [
  {
   "cell_type": "code",
   "execution_count": null,
   "metadata": {},
   "outputs": [],
   "source": []
  },
  {
   "cell_type": "markdown",
   "metadata": {},
   "source": [
    "***\n",
    "# Ellipsis Python Workshop\n",
    "<b>Welcome, Freshmen! This guide is your first step into the exciting world of Python programming. We'll cover the basics and get you ready for a hands-on learning experience.</b><br>\n",
    "\n",
    "<b>Learning Outcomes:</b>\n",
    "\n",
    "- Running code on VSCode\n",
    "- Variables and Data Types\n",
    "- Arithmetic Operations\n",
    "- Comparison Operations\n",
    "- User Input\n",
    "- Control Structures\n",
    "- Loops\n",
    "- Functions\n",
    "- Lists and Tuples\n",
    "***\n",
    "## Why Learn Python?\n",
    "\n",
    "- **Easy to Learn:** Python's syntax is simple and readable, making it a great first programming language.\n",
    "- **Versatile:** Used in web development, data analysis, machine learning, and more.\n",
    "- **Community:** Large, supportive community with plenty of resources.\n",
    "***\n",
    "## What You'll Need\n",
    "\n",
    "1. **Python:** Download and install Python from [python.org](https://www.python.org/).\n",
    "2. **IDE:** An Integrated Development Environment (IDE) helps you write code. \n",
    "   - [VS Code](https://code.visualstudio.com/)\n",
    "\n",
    "### Steps to run your first program\n",
    "1. Open your IDE.\n",
    "2. Create a new file and save it with a .py extension (e.g., hello.py).\n",
    "3. Begin writing code in the file!\n",
    "***\n",
    "## Your First Python Program\n",
    "\n",
    "Let's start with a classic:\n",
    "\n",
    "```python\n",
    "print(\"Hello, World!\")"
   ]
  },
  {
   "cell_type": "code",
   "execution_count": null,
   "metadata": {},
   "outputs": [],
   "source": [
    "# Input your code here, say hello to the world!\n",
    "\n"
   ]
  },
  {
   "cell_type": "markdown",
   "metadata": {},
   "source": [
    "***\n",
    "# Basic Concepts\n",
    "## Variables and Data Types\n",
    "Variables are used to store data that can be used and manipulated throughout your program. Python supports several data types, here are some common types of data:\n",
    "1) Integer\n",
    "2) Float \n",
    "3) String\n",
    "4) Boolean"
   ]
  },
  {
   "cell_type": "code",
   "execution_count": null,
   "metadata": {},
   "outputs": [],
   "source": [
    "# Integer\n",
    "age = 18\n",
    "\n",
    "# Float\n",
    "height = 1.68\n",
    "\n",
    "# String\n",
    "name = \"Johnny\"\n",
    "\n",
    "# Boolean\n",
    "is_student = True"
   ]
  },
  {
   "cell_type": "markdown",
   "metadata": {},
   "source": [
    "### Your turn!\n",
    "Create three variables with their appropriate names and data types!\n",
    "1) Your full name\n",
    "2) Your height\n",
    "3) If you love coding"
   ]
  },
  {
   "cell_type": "code",
   "execution_count": null,
   "metadata": {},
   "outputs": [],
   "source": [
    "# Input your code here:\n",
    "# Your full name\n",
    "\n",
    "# Your height\n",
    "\n",
    "# If you love coding\n"
   ]
  },
  {
   "cell_type": "markdown",
   "metadata": {},
   "source": [
    "***\n",
    "## Basic Operations\n",
    "### Arithmetic operations\n",
    "Python allows you to carry out arithmetic operations, here are some basic examples of how!\n",
    "\n",
    "### Remember the PEMDAS Rule!\n",
    "\n",
    "When performing arithmetic operations, Python follows the PEMDAS rule to determine the order of operations. \n",
    "\n",
    "**PEMDAS** stands for:\n",
    "- **P**arentheses `()`\n",
    "- **E**xponents `**`\n",
    "- **M**ultiplication `*` and **D**ivision `/` (from left to right)\n",
    "- **A**ddition `+` and **S**ubtraction `-` (from left to right)"
   ]
  },
  {
   "cell_type": "code",
   "execution_count": null,
   "metadata": {},
   "outputs": [],
   "source": [
    "# Arithmetic operations\n",
    "a = 10\n",
    "b = 5\n",
    "\n",
    "print(a + b)  # Addition\n",
    "print(a - b)  # Subtraction\n",
    "print(a * b)  # Multiplication\n",
    "print(a / b)  # Division\n",
    "print(a % b)  # Modulus\n",
    "print(a ** b) # Exponent\n",
    "\n",
    "# String operations\n",
    "greeting = \"Hello\"\n",
    "place = \"World\"\n",
    "print(greeting + \" \" + place)  # Concatenation\n"
   ]
  },
  {
   "cell_type": "markdown",
   "metadata": {},
   "source": [
    "### Comparison operators\n",
    "Comparison operators are used to compare two values. The result of a comparison is a boolean value (`True` or `False`)"
   ]
  },
  {
   "cell_type": "code",
   "execution_count": null,
   "metadata": {},
   "outputs": [],
   "source": [
    "x = 10\n",
    "y = 5\n",
    "\n",
    "print(x == y)  # Equal to\n",
    "print(x != y)  # Not equal to\n",
    "print(x > y)   # Greater than\n",
    "print(x < y)   # Less than\n",
    "print(x >= y)  # Greater than or equal to\n",
    "print(x <= y)  # Less than or equal to\n"
   ]
  },
  {
   "cell_type": "markdown",
   "metadata": {},
   "source": [
    "### Your turn!\n",
    "You can use the space below to try out some of these operations"
   ]
  },
  {
   "cell_type": "code",
   "execution_count": null,
   "metadata": {},
   "outputs": [],
   "source": [
    "# Input your code here:\n",
    "\n",
    "\n"
   ]
  },
  {
   "cell_type": "markdown",
   "metadata": {},
   "source": [
    "***\n",
    "## User Input\n",
    "You can store user input into string variables"
   ]
  },
  {
   "cell_type": "code",
   "execution_count": 1,
   "metadata": {},
   "outputs": [
    {
     "name": "stdout",
     "output_type": "stream",
     "text": [
      "Hello Johnny, nice to meet you!\n"
     ]
    }
   ],
   "source": [
    "name = input(\"What is your name?\")\n",
    "\n",
    "print(\"Hello \" + name + \", nice to meet you!\")"
   ]
  },
  {
   "cell_type": "markdown",
   "metadata": {},
   "source": [
    "### Your turn!\n",
    "Create a simple BMI calculator that takes in the user's name, weight, and height and display a ```Hi [name], your BMI is [bmi].```\n",
    "\n",
    "The BMI calculation formula is $BMI = \\frac{Weight}{Height^2}$"
   ]
  },
  {
   "cell_type": "code",
   "execution_count": null,
   "metadata": {},
   "outputs": [],
   "source": [
    "# Input your code here:\n",
    "\n",
    "\n"
   ]
  },
  {
   "cell_type": "markdown",
   "metadata": {},
   "source": [
    "***\n",
    "## Control Structures\n",
    "Control structures allow you to control the flow of your program based on certain conditions or repeat actions multiple times.\n",
    "\n",
    "Conditional Statements\n",
    "Conditional statements let you execute code based on certain conditions. The basic structure is `if`, `elif`, and `else`."
   ]
  },
  {
   "cell_type": "code",
   "execution_count": null,
   "metadata": {},
   "outputs": [],
   "source": [
    "x = 10\n",
    "\n",
    "if x > 0:\n",
    "    print(\"x is positive\")\n",
    "elif x < 0:\n",
    "    print(\"x is negative\")\n",
    "else:\n",
    "    print(\"x is zero\")\n"
   ]
  },
  {
   "cell_type": "markdown",
   "metadata": {},
   "source": [
    "### Your turn!\n",
    "You are a theme park assistant, write a script that takes in the user's height and check if their height is above the restriction of at least 0.9 meters tall. If they pass, print out `Welcome onboard!`. If they fail, print out `Too short :(`."
   ]
  },
  {
   "cell_type": "code",
   "execution_count": null,
   "metadata": {},
   "outputs": [],
   "source": [
    "# Input your code here:\n",
    "\n",
    "\n"
   ]
  },
  {
   "cell_type": "markdown",
   "metadata": {},
   "source": [
    "### Loops\n",
    "Loops are used to repeat a block of code multiple times. Python supports `for` and `while` loops."
   ]
  },
  {
   "cell_type": "code",
   "execution_count": null,
   "metadata": {},
   "outputs": [],
   "source": [
    "# For loop: iterates over a sequence (e.g., a range of numbers)\n",
    "for i in range(5):\n",
    "    print(i)\n",
    "\n",
    "# While loop: repeats as long as a condition is true\n",
    "count = 0\n",
    "while count < 5:\n",
    "    print(count)\n",
    "    count += 1\n"
   ]
  },
  {
   "cell_type": "markdown",
   "metadata": {},
   "source": [
    "### Your turn!\n",
    "Write a simple script that sums up all even numbers between 1 and 100."
   ]
  },
  {
   "cell_type": "code",
   "execution_count": null,
   "metadata": {},
   "outputs": [],
   "source": [
    "# Input your code here:\n",
    "\n",
    "\n"
   ]
  },
  {
   "cell_type": "markdown",
   "metadata": {},
   "source": [
    "***\n",
    "## Functions\n",
    "Functions are reusable blocks of code that perform a specific task. They help to organize your code and make it more modular."
   ]
  },
  {
   "cell_type": "code",
   "execution_count": null,
   "metadata": {},
   "outputs": [],
   "source": [
    "# Defining a function\n",
    "def greet(name):\n",
    "    return \"Hello, \" + name\n",
    "\n",
    "# Calling the function\n",
    "print(greet(\"Jonathan\"))\n"
   ]
  },
  {
   "cell_type": "markdown",
   "metadata": {},
   "source": [
    "### Global vs local variables\n",
    "<b>Local variables</b> \n",
    "- Definition: Local variables are defined within a function and can only be used inside that function. They are created when the function starts and destroyed when the function ends.\n",
    "- Scope: The scope of a local variable is limited to the function in which it is defined.\n",
    "- Example:"
   ]
  },
  {
   "cell_type": "code",
   "execution_count": null,
   "metadata": {},
   "outputs": [],
   "source": [
    "def new_function():\n",
    "    local_variable = 10 # Declared a local variable\n",
    "    print(local_variable)\n",
    "\n",
    "new_function()\n",
    "\n",
    "# Uncomment out the next line to see what happens when u try to print \"local_variable\" outside of the function\n",
    "# print(local_variable)"
   ]
  },
  {
   "cell_type": "markdown",
   "metadata": {},
   "source": [
    "<b>Global variables</b>\n",
    "- Defintion: Global variables are defined outside of any function and can be accessed and modified from anywhere in your code.\n",
    "- Scope: The scope of a global variable is the entire program.\n",
    "- Example:"
   ]
  },
  {
   "cell_type": "code",
   "execution_count": null,
   "metadata": {},
   "outputs": [],
   "source": [
    "global_variable = 10 # Declared a global variable\n",
    "\n",
    "def print_global_variable():\n",
    "    global global_variable\n",
    "    print(global_variable)\n",
    "\n",
    "def change_global_variable():\n",
    "    global global_variable\n",
    "    global_variable = 100\n",
    "\n",
    "print_global_variable()\n",
    "change_global_variable()\n",
    "print(global_variable)\n"
   ]
  },
  {
   "cell_type": "markdown",
   "metadata": {},
   "source": [
    "### Your turn!\n",
    "You are an assistant at a supermarket. Your task is to create a function called `add_single_item` that takes two parameters: a string `item`, which contains the name of the item, and a float `price`, which contains the price of the item. You have a global variable called `cart` that keeps track of the total cost of items added. The `add_single_item` function should add the price of the item to cart and print a message: `[item] of cost $[price] added to cart!`."
   ]
  },
  {
   "cell_type": "code",
   "execution_count": 2,
   "metadata": {},
   "outputs": [],
   "source": [
    "# Edit the following code:\n",
    "\n",
    "def add_single_item(item,price):\n",
    "    # Do something\n",
    "    pass\n"
   ]
  },
  {
   "cell_type": "code",
   "execution_count": null,
   "metadata": {},
   "outputs": [],
   "source": [
    "# Tests to check\n",
    "cart = 0\n",
    "add_single_item(\"Milk\",7.90)\n",
    "add_single_item(\"Rice\",10)\n",
    "add_single_item(\"Bread\",4.50)\n",
    "print(cart)"
   ]
  },
  {
   "cell_type": "markdown",
   "metadata": {},
   "source": [
    "***\n",
    "## Lists and Tuples\n",
    "### Lists\n",
    "Lists are ordered collections of items that are changeable. You can add, remove, and modify items in a list."
   ]
  },
  {
   "cell_type": "code",
   "execution_count": null,
   "metadata": {},
   "outputs": [],
   "source": [
    "# Creating a list\n",
    "fruits = [\"apple\", \"banana\", \"cherry\"]\n",
    "\n",
    "# Accessing elements\n",
    "print(fruits[0])  # First element\n",
    "\n",
    "# Adding an element\n",
    "fruits.append(\"orange\")\n",
    "\n",
    "# Removing an element\n",
    "fruits.remove(\"banana\")\n",
    "\n",
    "# List methods\n",
    "print(fruits)\n"
   ]
  },
  {
   "cell_type": "markdown",
   "metadata": {},
   "source": [
    "### Tuples\n",
    "Tuples are similar to lists but are immutable, meaning they cannot be changed after creation. They are useful for storing related pieces of information."
   ]
  },
  {
   "cell_type": "code",
   "execution_count": null,
   "metadata": {},
   "outputs": [],
   "source": [
    "# Creating a tuple\n",
    "colors = (\"red\", \"green\", \"blue\")\n",
    "\n",
    "# Accessing elements\n",
    "print(colors[1])  # Second element\n",
    "\n",
    "# Tuples are immutable, so you cannot add or remove elements\n"
   ]
  },
  {
   "cell_type": "markdown",
   "metadata": {},
   "source": [
    "### Your turn!\n",
    "Create a list of five fruits and print each fruit using a for loop."
   ]
  },
  {
   "cell_type": "code",
   "execution_count": null,
   "metadata": {},
   "outputs": [],
   "source": [
    "# Insert your code here:\n",
    "\n",
    "\n"
   ]
  }
 ],
 "metadata": {
  "kernelspec": {
   "display_name": "Python 3",
   "language": "python",
   "name": "python3"
  },
  "language_info": {
   "codemirror_mode": {
    "name": "ipython",
    "version": 3
   },
   "file_extension": ".py",
   "mimetype": "text/x-python",
   "name": "python",
   "nbconvert_exporter": "python",
   "pygments_lexer": "ipython3",
   "version": "3.11.9"
  }
 },
 "nbformat": 4,
 "nbformat_minor": 2
}
